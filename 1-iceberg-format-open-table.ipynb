{
 "cells": [
  {
   "cell_type": "code",
   "execution_count": 0,
   "metadata": {
    "application/vnd.databricks.v1+cell": {
     "cellMetadata": {
      "byteLimit": 2048000,
      "rowLimit": 10000
     },
     "inputWidgets": {},
     "nuid": "431f5f46-7718-42fa-bdc1-8a851dd5dc78",
     "showTitle": false,
     "tableResultSettingsMap": {},
     "title": ""
    }
   },
   "outputs": [
    {
     "output_type": "stream",
     "name": "stdout",
     "output_type": "stream",
     "text": [
      "Successfully read Student Mental health.csv\nSuccessfully converted Student Mental health.csv to Iceberg table silver_catalog.silver.mental_health\nSuccessfully read StressLevelDataset.csv\nSuccessfully converted StressLevelDataset.csv to Iceberg table silver_catalog.silver.stress_levels\nSuccessfully read student_sleep_patterns.csv\nSuccessfully converted student_sleep_patterns.csv to Iceberg table silver_catalog.silver.sleep_patterns\nSuccessfully read StudentPerformanceFactors.csv\nSuccessfully converted StudentPerformanceFactors.csv to Iceberg table silver_catalog.silver.performance_factors\n"
     ]
    }
   ],
   "source": [
    "# Step 1:  import Azure Iceberg\n",
    "from pyspark.sql import SparkSession\n",
    "\n",
    "# creat SparkSession and set up path of Iceberg and Azure \n",
    "spark = SparkSession.builder \\\n",
    "    .config(\"spark.sql.catalog.silver_catalog\", \"org.apache.iceberg.spark.SparkCatalog\") \\\n",
    "    .config(\"spark.sql.catalog.silver_catalog.type\", \"hadoop\") \\\n",
    "    .config(\"spark.sql.catalog.silver_catalog.warehouse\", \"wasb://silver@iceberg2024stockage.dfs.core.windows.net/\") \\\n",
    "    .config(\"spark.hadoop.fs.azure.account.key.iceberg2024stockage.dfs.core.windows.net\", \"6u5KBSn4tf5V5ak1ROCGA2H6dKEojvQIy74085wkvmWKuyMA5UILRDw3f3kwRHl+nIV0ehuInAX9+ASt3LgZFw==\") \\\n",
    "    .getOrCreate()\n",
    "\n",
    "# Step 2: read CSV to transforme to Iceberg table\n",
    "bronze_path = \"dbfs:/mnt/iceberg-data/bronze/\"\n",
    "csv_files = [\n",
    "    {\"file\": \"Student Mental health.csv\", \"table\": \"mental_health\"},\n",
    "    {\"file\": \"StressLevelDataset.csv\", \"table\": \"stress_levels\"},\n",
    "    {\"file\": \"student_sleep_patterns.csv\", \"table\": \"sleep_patterns\"},\n",
    "    {\"file\": \"StudentPerformanceFactors.csv\", \"table\": \"performance_factors\"}\n",
    "]\n",
    "\n",
    "# treatment of each CSV \n",
    "for csv_file in csv_files: \n",
    "    try:\n",
    "        file_path = f\"{bronze_path}{csv_file['file']}\"\n",
    "        df = spark.read.option(\"header\", \"true\").option(\"inferSchema\", \"true\").csv(file_path)\n",
    "        if df.rdd.isEmpty():\n",
    "            raise FileNotFoundError(f\"The file {csv_file['file']} does not exist or is empty at path: {file_path}\")\n",
    "        print(f\"Successfully read {csv_file['file']}\")\n",
    "\n",
    "        # write data into Silver \n",
    "        table_name = f\"silver_catalog.silver.{csv_file['table']}\"\n",
    "        df.write.format(\"iceberg\").option(\"write-format\", \"parquet\").mode(\"overwrite\").saveAsTable(table_name)\n",
    "        print(f\"Successfully converted {csv_file['file']} to Iceberg table {table_name}\")\n",
    "\n",
    "    except Exception as e:\n",
    "        print(f\"Failed to process {csv_file['file']}: {e}\")\n"
   ]
  },
  {
   "cell_type": "code",
   "execution_count": 0,
   "metadata": {
    "application/vnd.databricks.v1+cell": {
     "cellMetadata": {
      "byteLimit": 2048000,
      "rowLimit": 10000
     },
     "inputWidgets": {},
     "nuid": "ea13aa25-e8a9-4e1c-a666-00220097ee34",
     "showTitle": false,
     "tableResultSettingsMap": {},
     "title": ""
    }
   },
   "outputs": [
    {
     "output_type": "stream",
     "name": "stdout",
     "output_type": "stream",
     "text": [
      "+--------------+------------------+---+--------------------+--------------------------+------------------+--------------+-----------------------+--------------------+-------------------------+--------------------------------------------+\n|     Timestamp|Choose your gender|Age|What is your course?|Your current year of Study|What is your CGPA?|Marital status|Do you have Depression?|Do you have Anxiety?|Do you have Panic attack?|Did you seek any specialist for a treatment?|\n+--------------+------------------+---+--------------------+--------------------------+------------------+--------------+-----------------------+--------------------+-------------------------+--------------------------------------------+\n|8/7/2020 12:02|            Female| 18|         Engineering|                    year 1|       3.00 - 3.49|            No|                    Yes|                  No|                      Yes|                                          No|\n|8/7/2020 12:04|              Male| 21|   Islamic education|                    year 2|       3.00 - 3.49|            No|                     No|                 Yes|                       No|                                          No|\n|8/7/2020 12:05|              Male| 19|                 BIT|                    Year 1|       3.00 - 3.49|            No|                    Yes|                 Yes|                      Yes|                                          No|\n|8/7/2020 12:06|            Female| 22|                Laws|                    year 3|       3.00 - 3.49|           Yes|                    Yes|                  No|                       No|                                          No|\n|8/7/2020 12:13|              Male| 23|        Mathemathics|                    year 4|       3.00 - 3.49|            No|                     No|                  No|                       No|                                          No|\n+--------------+------------------+---+--------------------+--------------------------+------------------+--------------+-----------------------+--------------------+-------------------------+--------------------------------------------+\nonly showing top 5 rows\n\n+-------------+-----------+---------------------+----------+--------+--------------+-------------+-----------------+-----------+-----------------+------+-----------+--------------------+----------+----------------------------+----------------------+--------------+-------------+--------------------------+--------+------------+\n|anxiety_level|self_esteem|mental_health_history|depression|headache|blood_pressure|sleep_quality|breathing_problem|noise_level|living_conditions|safety|basic_needs|academic_performance|study_load|teacher_student_relationship|future_career_concerns|social_support|peer_pressure|extracurricular_activities|bullying|stress_level|\n+-------------+-----------+---------------------+----------+--------+--------------+-------------+-----------------+-----------+-----------------+------+-----------+--------------------+----------+----------------------------+----------------------+--------------+-------------+--------------------------+--------+------------+\n|           14|         20|                    0|        11|       2|             1|            2|                4|          2|                3|     3|          2|                   3|         2|                           3|                     3|             2|            3|                         3|       2|           1|\n|           15|          8|                    1|        15|       5|             3|            1|                4|          3|                1|     2|          2|                   1|         4|                           1|                     5|             1|            4|                         5|       5|           2|\n|           12|         18|                    1|        14|       2|             1|            2|                2|          2|                2|     3|          2|                   2|         3|                           3|                     2|             2|            3|                         2|       2|           1|\n|           16|         12|                    1|        15|       4|             3|            1|                3|          4|                2|     2|          2|                   2|         4|                           1|                     4|             1|            4|                         4|       5|           2|\n|           16|         28|                    0|         7|       2|             3|            5|                1|          3|                2|     4|          3|                   4|         3|                           1|                     2|             1|            5|                         0|       5|           1|\n+-------------+-----------+---------------------+----------+--------+--------------+-------------+-----------------+-----------+-----------------+------+-----------+--------------------+----------+----------------------------+----------------------+--------------+-------------+--------------------------+--------+------------+\nonly showing top 5 rows\n\n"
     ]
    }
   ],
   "source": [
    "\n",
    "\n",
    "# 读取 mental_health 表数据\n",
    "df_mental_health = spark.read.format(\"iceberg\").load(\"silver_catalog.silver.mental_health\")\n",
    "df_mental_health.show(5)\n",
    "\n",
    "# 读取 stress_levels 表数据\n",
    "df_stress_levels = spark.read.format(\"iceberg\").load(\"silver_catalog.silver.stress_levels\")\n",
    "df_stress_levels.show(5)\n",
    "\n"
   ]
  }
 ],
 "metadata": {
  "application/vnd.databricks.v1+notebook": {
   "dashboards": [],
   "environmentMetadata": null,
   "language": "python",
   "notebookMetadata": {
    "mostRecentlyExecutedCommandWithImplicitDF": {
     "commandId": 560276858213951,
     "dataframes": [
      "_sqldf"
     ]
    },
    "pythonIndentUnit": 4
   },
   "notebookName": "1-iceberg-format-open-table",
   "widgets": {}
  }
 },
 "nbformat": 4,
 "nbformat_minor": 0
}
